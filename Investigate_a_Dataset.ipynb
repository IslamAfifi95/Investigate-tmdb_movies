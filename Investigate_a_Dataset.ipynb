{
 "cells": [
  {
   "cell_type": "markdown",
   "metadata": {},
   "source": [
    "> **Tip**: Welcome to the Investigate a Dataset project! You will find tips in quoted sections like this to help organize your approach to your investigation. Once you complete this project, remove these **Tip** sections from your report before submission. First things first, you might want to double-click this Markdown cell and change the title so that it reflects your dataset and investigation.\n",
    "\n",
    "# Project: Investigate a Dataset - [Dataset-name]\n",
    "\n",
    "## Table of Contents\n",
    "<ul>\n",
    "<li><a href=\"#intro\">Introduction</a></li>\n",
    "<li><a href=\"#wrangling\">Data Wrangling</a></li>\n",
    "<li><a href=\"#eda\">Exploratory Data Analysis</a></li>\n",
    "<li><a href=\"#conclusions\">Conclusions</a></li>\n",
    "</ul>"
   ]
  },
  {
   "cell_type": "markdown",
   "metadata": {},
   "source": [
    "<a id='intro'></a>\n",
    "## Introduction\n",
    "\n",
    "in this report we explored data of tmdb movies through period 19960 to 2016\n",
    "and try to answer some question :\n",
    "\n",
    "1 What kinds of properties are associated with movies that have high revenues!\n",
    "\n",
    "2- Which genres are most popular from year to year\n",
    "\n",
    "3- What is the future of the film industry from one era to another\n",
    "\n",
    "4- What is the most popular movie production month\n"
   ]
  },
  {
   "cell_type": "code",
   "execution_count": 45,
   "metadata": {},
   "outputs": [
    {
     "name": "stderr",
     "output_type": "stream",
     "text": [
      "UsageError: Line magic function `%` not found.\n"
     ]
    }
   ],
   "source": [
    "# Use this cell to set up import statements for all of the packages that you\n",
    "#   plan to use.\n",
    "import pandas as pd\n",
    "import numpy as np\n",
    "import matplotlib.pyplot as plt\n",
    "% matplotlibe inline\n",
    "import os\n",
    "# Remember to include a 'magic word' so that your visualizations are plotted\n",
    "#   inline with the notebook. See this page for more:\n",
    "#   http://ipython.readthedocs.io/en/stable/interactive/magics.html\n"
   ]
  },
  {
   "cell_type": "code",
   "execution_count": null,
   "metadata": {},
   "outputs": [],
   "source": [
    "# Upgrade pandas to use dataframe.explode() function. \n",
    "!pip install --upgrade pandas==0.25.0"
   ]
  },
  {
   "cell_type": "markdown",
   "metadata": {},
   "source": [
    "<a id='wrangling'></a>\n",
    "## Data Wrangling\n",
    "\n",
    "in this section we will work on TMBb movies Dataset This data set contains information\n",
    "about 10,000 movies collected from\n",
    "The Movie Database (TMDb),\n",
    "including user ratings and revenue.\n",
    "● Certain columns, like ‘cast’\n",
    "and ‘genres’, contain multiple\n",
    "values separated by pipe (|)\n",
    "characters.\n",
    "● There are some odd characters\n",
    "in the ‘cast’ column. Don’t worry\n",
    "about cleaning them. You can\n",
    "leave them as is.\n",
    "● The final two columns ending\n",
    "with “_adj” show the budget and\n",
    "revenue of the associated movie\n",
    "in terms of 2010 dollars,\n",
    "accounting for inflation over\n",
    "time\n",
    "\n",
    "**for More infromation about this data visit this** [link](https://www.kaggle.com/datasets/tmdb/tmdb-movie-metadata)\n"
   ]
  },
  {
   "cell_type": "code",
   "execution_count": 46,
   "metadata": {},
   "outputs": [],
   "source": [
    "df=pd.read_csv(\"tmdb_movies.txt\")"
   ]
  },
  {
   "cell_type": "markdown",
   "metadata": {},
   "source": [
    "\n",
    "### Data Cleaning\n",
    "> **Tip**: Make sure that you keep your reader informed on the steps that you are taking in your investigation. Follow every code cell, or every set of related code cells, with a markdown cell to describe to the reader what was found in the preceding cell(s). Try to make it so that the reader can then understand what they will be seeing in the following cell(s).\n",
    " "
   ]
  },
  {
   "cell_type": "code",
   "execution_count": 47,
   "metadata": {},
   "outputs": [
    {
     "data": {
      "text/plain": [
       "Index(['id', 'imdb_id', 'popularity', 'budget', 'revenue', 'original_title',\n",
       "       'cast', 'homepage', 'director', 'tagline', 'keywords', 'overview',\n",
       "       'runtime', 'genres', 'production_companies', 'release_date',\n",
       "       'vote_count', 'vote_average', 'release_year', 'budget_adj',\n",
       "       'revenue_adj'],\n",
       "      dtype='object')"
      ]
     },
     "execution_count": 47,
     "metadata": {},
     "output_type": "execute_result"
    }
   ],
   "source": [
    "df.columns"
   ]
  },
  {
   "cell_type": "code",
   "execution_count": 48,
   "metadata": {},
   "outputs": [
    {
     "name": "stdout",
     "output_type": "stream",
     "text": [
      "<class 'pandas.core.frame.DataFrame'>\n",
      "RangeIndex: 10866 entries, 0 to 10865\n",
      "Data columns (total 21 columns):\n",
      "id                      10866 non-null int64\n",
      "imdb_id                 10856 non-null object\n",
      "popularity              10866 non-null float64\n",
      "budget                  10866 non-null int64\n",
      "revenue                 10866 non-null int64\n",
      "original_title          10866 non-null object\n",
      "cast                    10790 non-null object\n",
      "homepage                2936 non-null object\n",
      "director                10822 non-null object\n",
      "tagline                 8042 non-null object\n",
      "keywords                9373 non-null object\n",
      "overview                10862 non-null object\n",
      "runtime                 10866 non-null int64\n",
      "genres                  10843 non-null object\n",
      "production_companies    9836 non-null object\n",
      "release_date            10866 non-null object\n",
      "vote_count              10866 non-null int64\n",
      "vote_average            10866 non-null float64\n",
      "release_year            10866 non-null int64\n",
      "budget_adj              10866 non-null float64\n",
      "revenue_adj             10866 non-null float64\n",
      "dtypes: float64(4), int64(6), object(11)\n",
      "memory usage: 1.7+ MB\n"
     ]
    }
   ],
   "source": [
    "df.info()"
   ]
  },
  {
   "cell_type": "code",
   "execution_count": 49,
   "metadata": {},
   "outputs": [
    {
     "name": "stdout",
     "output_type": "stream",
     "text": [
      "<class 'pandas.core.frame.DataFrame'>\n",
      "Int64Index: 1287 entries, 0 to 10760\n",
      "Data columns (total 21 columns):\n",
      "id                      1287 non-null int64\n",
      "imdb_id                 1287 non-null object\n",
      "popularity              1287 non-null float64\n",
      "budget                  1287 non-null float64\n",
      "revenue                 1287 non-null float64\n",
      "original_title          1287 non-null object\n",
      "cast                    1287 non-null object\n",
      "homepage                1287 non-null object\n",
      "director                1287 non-null object\n",
      "tagline                 1287 non-null object\n",
      "keywords                1287 non-null object\n",
      "overview                1287 non-null object\n",
      "runtime                 1287 non-null float64\n",
      "genres                  1287 non-null object\n",
      "production_companies    1287 non-null object\n",
      "release_date            1287 non-null object\n",
      "vote_count              1287 non-null int64\n",
      "vote_average            1287 non-null float64\n",
      "release_year            1287 non-null int64\n",
      "budget_adj              1287 non-null float64\n",
      "revenue_adj             1287 non-null float64\n",
      "dtypes: float64(7), int64(3), object(11)\n",
      "memory usage: 221.2+ KB\n"
     ]
    }
   ],
   "source": [
    "#we will replace all 0 value at dataset to null value then remove it by using drop method\n",
    "df.replace(0,np.nan,inplace=True)\n",
    "df.dropna(inplace=True)\n",
    "df.info()"
   ]
  },
  {
   "cell_type": "code",
   "execution_count": 50,
   "metadata": {},
   "outputs": [],
   "source": [
    "# replace all null of homepage to not found \n",
    "df.homepage.fillna(\"Not_Found\",inplace=True)"
   ]
  },
  {
   "cell_type": "code",
   "execution_count": 51,
   "metadata": {},
   "outputs": [
    {
     "data": {
      "text/plain": [
       "0"
      ]
     },
     "execution_count": 51,
     "metadata": {},
     "output_type": "execute_result"
    }
   ],
   "source": [
    "# check if any instance have 0 revenue in our data\n",
    "sum(df.revenue==0)"
   ]
  },
  {
   "cell_type": "code",
   "execution_count": 52,
   "metadata": {},
   "outputs": [],
   "source": [
    "# chnage release data from sting to data time \n",
    "df.release_date=pd.to_datetime(df.release_date)"
   ]
  },
  {
   "cell_type": "code",
   "execution_count": 53,
   "metadata": {},
   "outputs": [
    {
     "data": {
      "text/plain": [
       "0"
      ]
     },
     "execution_count": 53,
     "metadata": {},
     "output_type": "execute_result"
    }
   ],
   "source": [
    "# chek any duplicated rows\n",
    "sum(df.duplicated())"
   ]
  },
  {
   "cell_type": "code",
   "execution_count": 54,
   "metadata": {},
   "outputs": [],
   "source": [
    "'''\n",
    "this function make filteration on columns which can be suitable for answering our question\n",
    "input : not take nay arguement\n",
    "process : drop and create some columns which can be suitable for answering our question\n",
    "output : not return any value \n",
    "'''\n",
    "def filter_col():\n",
    "    #we will drop some columns which not be usefull for us\n",
    "    df.drop([\"id\",\"imdb_id\",\"cast\",\"overview\",\"tagline\",\"keywords\",\"production_companies\"],inplace=True,axis=1)\n",
    "    # create new column which have month name\n",
    "    df[\"Month\"]=df.release_date.dt.month_name()\n",
    "    # create column contain vote average propotion\n",
    "    total_vote_count=np.array(df.vote_count).sum()\n",
    "    propotion_vote_count=np.array(df.vote_count)/total_vote_count\n",
    "    df[\"vote_average_propotion\"]=np.array(df.vote_average)*propotion_vote_count\n",
    "    # create total budget and total revenue \n",
    "    df[\"total_budget\"]=np.array(df.budget)+np.array(df.budget_adj)\n",
    "    df[\"total_revenue\"]=np.array(df.revenue)+np.array(df.revenue_adj)\n",
    "filter_col()"
   ]
  },
  {
   "cell_type": "code",
   "execution_count": 55,
   "metadata": {},
   "outputs": [
    {
     "data": {
      "text/plain": [
       "Index(['popularity', 'budget', 'revenue', 'original_title', 'homepage',\n",
       "       'director', 'runtime', 'genres', 'release_date', 'vote_count',\n",
       "       'vote_average', 'release_year', 'budget_adj', 'revenue_adj', 'Month',\n",
       "       'vote_average_propotion', 'total_budget', 'total_revenue'],\n",
       "      dtype='object')"
      ]
     },
     "execution_count": 55,
     "metadata": {},
     "output_type": "execute_result"
    }
   ],
   "source": [
    "df.columns"
   ]
  },
  {
   "cell_type": "markdown",
   "metadata": {},
   "source": [
    "<a id='eda'></a>\n",
    "## Exploratory Data Analysis\n",
    "\n",
    "> **Tip**: Now that you've trimmed and cleaned your data, you're ready to move on to exploration. **Compute statistics** and **create visualizations** with the goal of addressing the research questions that you posed in the Introduction section. You should compute the relevant statistics throughout the analysis when an inference is made about the data. Note that at least two or more kinds of plots should be created as part of the exploration, and you must  compare and show trends in the varied visualizations. \n",
    "\n",
    "\n",
    "\n",
    "> **Tip**: - Investigate the stated question(s) from multiple angles. It is recommended that you be systematic with your approach. Look at one variable at a time, and then follow it up by looking at relationships between variables. You should explore at least three variables in relation to the primary question. This can be an exploratory relationship between three variables of interest, or looking at how two independent variables relate to a single dependent variable of interest. Lastly, you  should perform both single-variable (1d) and multiple-variable (2d) explorations.\n",
    "\n",
    "\n"
   ]
  },
  {
   "cell_type": "markdown",
   "metadata": {},
   "source": [
    "## we will explore Data to Answer some question\n",
    "\n",
    "### Research Question 1 (What kinds of properties are associated with movies that have high revenues!)"
   ]
  },
  {
   "cell_type": "code",
   "execution_count": 56,
   "metadata": {},
   "outputs": [
    {
     "name": "stdout",
     "output_type": "stream",
     "text": [
      "the correlation cofficient among revenue & popularity =  0.5947547264830623\n",
      "the correlation cofficient among revenue & runtime =  0.37122591306845887\n",
      "the correlation cofficient among revenue & vote_average_propotion =  0.7552467868121625\n",
      "the correlation cofficient among revenue & budget =  0.7068884353090428\n"
     ]
    }
   ],
   "source": [
    "# measure of relationship among [popularity\",\"runtime\",\"vote_average_propotion] & revenue\n",
    "x=[\"popularity\",\"runtime\",\"vote_average_propotion\",\"budget\"]\n",
    "for feature in x:\n",
    "    print(\"the correlation cofficient among revenue & {} = \".format(feature),df[feature].corr(df.revenue))\n",
    "    \n",
    "    \n"
   ]
  },
  {
   "cell_type": "code",
   "execution_count": 57,
   "metadata": {},
   "outputs": [
    {
     "data": {
      "image/png": "[encoded data removed]",
      "text/plain": [
       "<Figure size 432x288 with 4 Axes>"
      ]
     },
     "metadata": {
      "needs_background": "light"
     },
     "output_type": "display_data"
    }
   ],
   "source": [
    "# make scatter plot among [popularity ,runtime ,vote_average_propotion ,budget]  and revenue\n",
    "plt.subplot(2,2,1)\n",
    "plt.scatter(x=df.popularity,y=df.revenue)\n",
    "plt.xlabel(\"popularity\")\n",
    "plt.ylabel(\"revenue\")\n",
    "plt.subplot(2,2,2)\n",
    "plt.scatter(x=df.runtime,y=df.revenue)\n",
    "plt.xlabel(\"runtime\")\n",
    "plt.ylabel(\"revenue\")\n",
    "plt.subplot(2,2,3)\n",
    "plt.scatter(x=df.vote_average_propotion,y=df.revenue)\n",
    "plt.xlabel(\"vote_average_propotion\")\n",
    "plt.ylabel(\"revenue\")\n",
    "plt.subplot(2,2,4)\n",
    "plt.scatter(x=df.budget,y=df.revenue)\n",
    "plt.xlabel(\"budget\")\n",
    "plt.ylabel(\"revenue\");\n"
   ]
  },
  {
   "cell_type": "markdown",
   "metadata": {},
   "source": [
    "### Research Question 2  (Which genres are most popular from year to year)"
   ]
  },
  {
   "cell_type": "code",
   "execution_count": 58,
   "metadata": {},
   "outputs": [],
   "source": [
    "ty_movies=[\"Action\",\"Adventure\",\"Comedy\",\"Crime\",\"Drama\",\"Thriller\",\"History\",\"Mystery\",\"Animation\",\"Western\",\"Fantasy\",\"Family\",\n",
    "           \"Horror\",\"Music\",\"Romance\",\"Science Fiction\",\"Documentary\",\"Foreign\",\"War\"]"
   ]
  },
  {
   "cell_type": "code",
   "execution_count": 59,
   "metadata": {},
   "outputs": [],
   "source": [
    "revenue_of_genres=[]\n",
    "for value in ty_movies:\n",
    "    revenue_of_genres.append((df[df.genres.str.contains(\"{}\".format(value))]).revenue)\n",
    "    "
   ]
  },
  {
   "cell_type": "code",
   "execution_count": 60,
   "metadata": {},
   "outputs": [
    {
     "name": "stdout",
     "output_type": "stream",
     "text": [
      "average of Action =  256.44080400481926\n",
      "average of Adventure =  374.8261905892256\n",
      "average of Comedy =  147.08416118599033\n",
      "average of Crime =  118.84944787046632\n",
      "average of Drama =  103.9240087775701\n",
      "average of Thriller =  144.6964689774436\n",
      "average of History =  103.93807877142856\n",
      "average of Mystery =  142.1534446530612\n",
      "average of Animation =  348.2914143240741\n",
      "average of Western =  171.45374853846153\n",
      "average of Fantasy =  379.5062526363636\n",
      "average of Family =  325.0238051226994\n",
      "average of Horror =  89.3533574676259\n",
      "average of Music =  118.15858521052631\n",
      "average of Romance =  116.91110040816326\n",
      "average of Science Fiction =  275.1586576172249\n",
      "average of Documentary =  26.032535133333333\n",
      "average of Foreign =  0.187716\n",
      "average of War =  143.7026729375\n"
     ]
    }
   ],
   "source": [
    "for count,value in enumerate(revenue_of_genres):\n",
    "    print(\"average of {} = \".format(ty_movies[count]),value.mean()/1000000)"
   ]
  },
  {
   "cell_type": "code",
   "execution_count": 61,
   "metadata": {},
   "outputs": [
    {
     "data": {
      "text/plain": [
       "Text(0.5, 1.0, 'Average of genres of movies revenue though period 1960 to 2016')"
      ]
     },
     "execution_count": 61,
     "metadata": {},
     "output_type": "execute_result"
    },
    {
     "data": {
      "image/png": "[encoded data removed]",
      "text/plain": [
       "<Figure size 432x288 with 1 Axes>"
      ]
     },
     "metadata": {
      "needs_background": "light"
     },
     "output_type": "display_data"
    }
   ],
   "source": [
    "# make histogram for Average of genres of movies revenue through period 1960 to 2016\n",
    "revenue_value_count=[value.mean() for value in revenue_of_genres]\n",
    "index=np.arange(0,len(ty_movies))\n",
    "plt.bar(index,revenue_value_count,tick_label=ty_movies)\n",
    "plt.xticks(rotation=45);\n",
    "plt.title(\"Average of genres of movies revenue through period 1960 to 2016\")"
   ]
  },
  {
   "cell_type": "code",
   "execution_count": 62,
   "metadata": {},
   "outputs": [
    {
     "data": {
      "text/plain": [
       "Text(0.5, 1.0, 'Average of genres of movies revenue though period 1960 to 2016')"
      ]
     },
     "execution_count": 62,
     "metadata": {},
     "output_type": "execute_result"
    },
    {
     "data": {
      "image/png": "[encoded data removed]",
      "text/plain": [
       "<Figure size 432x288 with 1 Axes>"
      ]
     },
     "metadata": {},
     "output_type": "display_data"
    }
   ],
   "source": [
    "# make pieo chart for Average of genres of movies revenue through period 1960 to 2016\n",
    "plt.pie(revenue_value_count, labels = ty_movies)\n",
    "plt.title(\"Average of genres of movies revenue through period 1960 to 2016\")"
   ]
  },
  {
   "cell_type": "markdown",
   "metadata": {},
   "source": [
    "### Research Question 3  (What is the future of the film industry from one era to another)"
   ]
  },
  {
   "cell_type": "code",
   "execution_count": 63,
   "metadata": {},
   "outputs": [
    {
     "data": {
      "text/plain": [
       "Text(0.5, 1.0, 'Average of years revenue though period 1960 to 2016')"
      ]
     },
     "execution_count": 63,
     "metadata": {},
     "output_type": "execute_result"
    },
    {
     "data": {
      "image/png": "[encoded data removed]",
      "text/plain": [
       "<Figure size 432x288 with 1 Axes>"
      ]
     },
     "metadata": {
      "needs_background": "light"
     },
     "output_type": "display_data"
    }
   ],
   "source": [
    "# make histogram for Average of years revenue through period 1960 to 2016\n",
    "x=df.groupby([\"release_year\"])[\"revenue\"].mean()\n",
    "plt.hist(x,bins=10)\n",
    "plt.title(\"Average of years revenue through period 1960 to 2016\")"
   ]
  },
  {
   "cell_type": "markdown",
   "metadata": {},
   "source": [
    "### Research Question 3  (What is the most popular movie production month)"
   ]
  },
  {
   "cell_type": "code",
   "execution_count": 64,
   "metadata": {},
   "outputs": [],
   "source": [
    "months=df[\"Month\"].value_counts()"
   ]
  },
  {
   "cell_type": "code",
   "execution_count": 65,
   "metadata": {},
   "outputs": [],
   "source": [
    "indexs=np.arange(0,len(months.index))"
   ]
  },
  {
   "cell_type": "code",
   "execution_count": 66,
   "metadata": {},
   "outputs": [
    {
     "data": {
      "text/plain": [
       "Text(0.5, 1.0, 'Average of months revenue though period 1960 to 2016')"
      ]
     },
     "execution_count": 66,
     "metadata": {},
     "output_type": "execute_result"
    },
    {
     "data": {
      "image/png": "[encoded data removed]",
      "text/plain": [
       "<Figure size 432x288 with 1 Axes>"
      ]
     },
     "metadata": {
      "needs_background": "light"
     },
     "output_type": "display_data"
    }
   ],
   "source": [
    "# make bar chart for number of months count through period 1960 to 2016\n",
    "plt.bar(indexs,months.values,tick_label=months.index)\n",
    "plt.xticks(rotation=45);\n",
    "plt.title(\"number of months count through period 1960 to 2016\")"
   ]
  },
  {
   "cell_type": "code",
   "execution_count": 42,
   "metadata": {},
   "outputs": [
    {
     "data": {
      "text/plain": [
       "Text(0.5, 1.0, 'Average of months revenue though period 1960 to 2016')"
      ]
     },
     "execution_count": 42,
     "metadata": {},
     "output_type": "execute_result"
    },
    {
     "data": {
      "image/png": "[encoded data removed]",
      "text/plain": [
       "<Figure size 432x288 with 1 Axes>"
      ]
     },
     "metadata": {},
     "output_type": "display_data"
    }
   ],
   "source": [
    "# make pieo chart for number of months count through period 1960 to 2016\n",
    "\n",
    "plt.pie(months.values, labels = months.index)\n",
    "plt.title(\"Average of months revenue through period 1960 to 2016\")"
   ]
  },
  {
   "cell_type": "markdown",
   "metadata": {},
   "source": [
    "<a id='conclusions'></a>\n",
    "## Conclusions\n",
    "\n",
    "### Results is our Data suggest that:\n",
    "\n",
    "1- kinds of properties are associated with movies that have high revenues are vote_average_propotion,budget,popularity and runtime \n",
    "\n",
    "2- the most popular genres from year to year are each of Adventure ,Animation,fantasy and family \n",
    "\n",
    "\n",
    "3- the future of the film industry from one era to another, It represents a normal distribution, and this indicates that the film industry through the ages is not in a state of increase despite the advancement of filming mechanisms and the technology used for this Therefore, one of the most important factors in this may be the presence and advancement of Internet sites through which you can watch movies, We have come to this conclusion through\n",
    "drawing histogram plot for all mean of revenue for each release_year\n",
    "\n",
    "4- the most popular movie production month are eath of September and December\n",
    "\n",
    "### limitation : there are a couple of limitation with our data\n",
    "\n",
    "our statistics which used it are  descriptive statistics, not used inferential statistic which make us predict values which maybe happen in the future so we can't predict values of revenue by some related feature like vote_average_propotion,budget,popularity and runtime \n",
    "\n"
   ]
  },
  {
   "cell_type": "code",
   "execution_count": 67,
   "metadata": {},
   "outputs": [
    {
     "data": {
      "text/plain": [
       "0"
      ]
     },
     "execution_count": 67,
     "metadata": {},
     "output_type": "execute_result"
    }
   ],
   "source": [
    "from subprocess import call\n",
    "call(['python', '-m', 'nbconvert', 'Investigate_a_Dataset.ipynb'])"
   ]
  },
  {
   "cell_type": "code",
   "execution_count": 3,
   "metadata": {},
   "outputs": [
    {
     "ename": "SyntaxError",
     "evalue": "invalid syntax (<ipython-input-3-4953255e4c8f>, line 2)",
     "output_type": "error",
     "traceback": [
      "\u001b[1;36m  File \u001b[1;32m\"<ipython-input-3-4953255e4c8f>\"\u001b[1;36m, line \u001b[1;32m2\u001b[0m\n\u001b[1;33m    jupyter nbconvert your_notebook.ipynb --to pdf\u001b[0m\n\u001b[1;37m                    ^\u001b[0m\n\u001b[1;31mSyntaxError\u001b[0m\u001b[1;31m:\u001b[0m invalid syntax\n"
     ]
    }
   ],
   "source": [
    "!export PATH=/Library/TeX/texbin:$PATH\n",
    "jupyter nbconvert your_notebook.ipynb --to pdf\n"
   ]
  },
  {
   "cell_type": "code",
   "execution_count": null,
   "metadata": {},
   "outputs": [],
   "source": []
  }
 ],
 "metadata": {
  "kernelspec": {
   "display_name": "Python 3",
   "language": "python",
   "name": "python3"
  },
  "language_info": {
   "codemirror_mode": {
    "name": "ipython",
    "version": 3
   },
   "file_extension": ".py",
   "mimetype": "text/x-python",
   "name": "python",
   "nbconvert_exporter": "python",
   "pygments_lexer": "ipython3",
   "version": "3.7.4"
  }
 },
 "nbformat": 4,
 "nbformat_minor": 2
}
